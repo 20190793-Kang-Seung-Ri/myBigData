{
 "cells": [
  {
   "cell_type": "markdown",
   "metadata": {
    "id": "9xjMlgLlGonn"
   },
   "source": [
    "# 12장 파이썬 모델링 라이브러리\n",
    "* 모델 fitting\n",
    "* 모델 scoring\n",
    "* 데이터 cleaning\n",
    "* 모델링 도구\n",
    "  * statsmodels\n",
    "    * https://www.statsmodels.org/stable/index.html\n",
    "  * scikit-learn(사이킷런)\n",
    "    * https://scikit-learn.org/stable"
   ]
  },
  {
   "cell_type": "markdown",
   "metadata": {
    "id": "nOoe49rBITKr"
   },
   "source": [
    "## 12.1 판다스와 모델 코드의 인터페이스\n",
    "* 학습 모델링 개발 과정\n",
    "\n",
    "1. 데이터 로딩: 판다스를 사용하여 데이터를 로드하고 데이터프레임으로 변환\n",
    "\n",
    "2. 데이터 전처리: 판다스를 사용하여 데이터를 전처리\n",
    "  * 피처 엔지니어링(feature engineering)\n",
    "\n",
    "3. 데이터셋 분리\n",
    "    \n",
    "3. 모델 훈련: 판다스 데이터프레임을 모델 훈련에 사용\n",
    "\n",
    "4. 모델 평가: 판다스를 사용하여 모델 성능을 평가\n",
    "\n",
    "5. 모델 예측: 판다스 데이터프레임을 사용하여 모델 예측\n"
   ]
  },
  {
   "cell_type": "markdown",
   "metadata": {
    "id": "FAEEbLihNkXk"
   },
   "source": [
    "* feature engineering\n",
    "    * 기계 학습 모델의 성능을 향상시키기 위해 데이터의 원시 특징을 변환하는 프로세스\n",
    "    * 데이터를 더욱 정보량이 풍부하고 예측하기 쉽게 만드는 데 도움이 도움이 됨.\n",
    "    * 피처 엔지니어링 기술\n",
    "      * 결측값 처리: 결측값은 모델 성능에 부정적인 영향을 줌\n",
    "        * 결측값을 평균, 중앙값 또는 최빈값으로 대체\n",
    "        * 결측값을 포함하는 행을 삭제\n",
    "        * 결측값을 예측하는 모델을 훈련\n",
    "     \n",
    "      * 이상치 처리: 이상치는 모델 성능에 부정적인 영향을 줌\n",
    "          * 이상치를 처리하는 방법\n",
    "              * 이상치를 제거\n",
    "              * 이상치를 변환\n",
    "              * 이상치를 예측하는 모델을 훈련\n",
    "\n",
    "      * 피처 스케일링: 피처 스케일링은 모든 피처가 동일한 범위에 있도록 보장하는 프로세스\n",
    "        * 모델이 모든 피처에 동일한 가중치를 부여하는 데 도움\n",
    "        * 피처 스케일링 기술\n",
    "          * 표준화: -1과 1사이에 속하도록 표준화. 피처의 평균을 0으로, 표준 편차를 1로 조정\n",
    "          * 정규화: 피처의 값이 0과 1 사이에 있도록 조정\n",
    "\n",
    "      * 피처 변환: 피처 변환은 피처의 분포를 변경하는 프로세스\n",
    "        * 이는 모델이 피처 간의 관계를 더 잘 학습하는 데 도움\n",
    "        * 피처 변환 기술\n",
    "          * 로그 변환: 피처의 값을 로그로 변환\n",
    "          * 제곱근 변환: 피처의 값을 제곱근으로 변환\n",
    "\n",
    "      * 피처 선택: 피처 선택은 모델 학습에 사용할 피처를 선택하는 프로세스\n",
    "        * 이는 모델의 성능을 향상시키고 과적합을 줄이는 데 도움이 됨\n",
    "        * 피처 선택 기술\n",
    "          * 상관 관계 분석: 독립 변수 간 상관 관계가 높은 피처를 제거\n",
    "          * 통계적 유의성 검정: 통계적으로 유의미하지 않은 피처를 제거\n",
    "          * 머신 러닝 알고리즘: 피처 중요도를 평가하는 머신 러닝 알고리즘을 사용하여 피처를 선택\n",
    "\n",
    "      * 피처 생성: 피처 생성은 새로운 피처를 만드는 프로세스\n",
    "        * 이는 모델이 데이터의 패턴을 더 잘 학습하는 데 도움\n",
    "        * 피처 생성 기술\n",
    "          * 교차 피처: 기존 피처를 결합하여 새로운 피처를 생성\n",
    "          * 주성분 분석: 기존 피처의 주성분을 추출하여 새로운 피처를 생성\n",
    "  "
   ]
  },
  {
   "cell_type": "markdown",
   "metadata": {
    "id": "db9EeJUVc7XK"
   },
   "source": [
    "## Note. 교차 검증(Cross-validation)\n",
    "* 교차 검증은 머신러닝 모델의 성능을 평가하는 방법 중 하나\n",
    "* 교차 검증은 데이터셋을 여러 개의 폴드(fold)로 나누고, 각 폴드를 한 번씩 평가 데이터로 사용하는 방법\n",
    "* 예를 들어, 데이터셋을 5개의 폴드로 나누고 교차 검증을 사용하여 모델의 성능을 평가하면 다음과 같다.\n",
    "  * 데이터셋을 5개의 폴드로 나눈다\n",
    "  * 첫 번째 폴드를 평가 데이터로 사용하고, 나머지 4개의 폴드를 학습 데이터로 사용하여 모델을 훈련시킨다.\n",
    "  * 훈련된 모델을 사용하여 평가 데이터에 대한 예측을 만든다.\n",
    "  * 예측과 실제 값을 비교하여 모델의 성능을 평가함\n",
    "  * 두 번째 폴드를 평가 데이터로 사용하고, 나머지 4개의 폴드를 학습 데이터로 사용하여 모델을 훈련시킴.\n",
    "  * 훈련된 모델을 사용하여 평가 데이터에 대한 예측을 만든다. 예측과 실제 값을 비교하여 모델의 성능을 평가한다.\n",
    "  * 이 과정을 모든 폴드에 대해 반복한다.\n",
    "\n",
    "* 교차 검증은 다음과 같은 장점이 있다.\n",
    "  1) 모델의 성능을 정확하게 평가할 수 있다.\n",
    "  2) 과적합을 방지할 수 있다.\n",
    "  3) 하이퍼파라미터 튜닝에 사용할 수 있다.\n",
    "\n",
    "* 교차 검증은 다음과 같은 단점이 있다.\n",
    "  * 시간이 오래 걸린다.\n",
    "  * 계산 자원이 많이 필요\n",
    "\n"
   ]
  },
  {
   "cell_type": "markdown",
   "metadata": {
    "id": "IilY7L90xCn7"
   },
   "source": [
    "## [다중(다변량:multivariate) 회귀분석 문제]\n",
    "* 고급 데이터 분석\n",
    "* 상관도 분석 기법을 이용하여 주요 특징을 추출하는 방법을 이해\n",
    "* 머신러닝을 위하여 훈련데이터와 검증 데이터 분리하는 이유 이해하기\n",
    "\n",
    "* 최적화 머신 러닝 모델 :\n",
    "  * 현재 데이터를 잘 설명하는 모델\n",
    "  * 미래 데이터에 대한 예측 성능이 좋은 모델"
   ]
  },
  {
   "cell_type": "markdown",
   "metadata": {
    "id": "tTTyFmZDOIuJ"
   },
   "source": [
    "(1) 다변량 선형회귀 분석에서 오차 함수 :\n",
    "\n",
    "    * MSE(Mean Squared Error)\n",
    "    * MAE (Meab Absolute Error)\n",
    "    * R^2 (R-squared)\n",
    "    * MSE /MAE /R^2가 낮을수록 모델의 성능이 좋다.\n",
    "    \n",
    "* 다변량 선형회귀 분석에서 오차함수를 최소화하는 것은 모델의 성능을 최적화하는 것을 의미\n",
    "  * 오차를 최소화하기 위해서는 회귀 계수 벡터를 조정\n",
    "  * 이는 일반적으로 경사 하강법과 같은 최적화 알고리즘을 사용하여 수행\n",
    "\n",
    "    \n",
    "(2) Pipeline 구조을 이용하여 모델 학습 및 평가"
   ]
  },
  {
   "cell_type": "markdown",
   "metadata": {
    "id": "2icozh_uQR2H"
   },
   "source": [
    "## [심화 프로그래밍 문제] - LinearRegression, SGDRegressor(Next class : 화요일 5.28)\n",
    "* Kaggle 사이트의 공개 데이터를 바탕으로 나라별 기대수명을 예측을 할 수 있는 모델링\n",
    "  * 세계보건기구(WHO)에서 내어놓은 나라별 기대수명 데이터\n",
    "  * 2000년부터 2015년까지 나라별 기대수명과 보건예산, 질병통계, 비만도 등이 정리되어 있음"
   ]
  },
  {
   "cell_type": "code",
   "execution_count": null,
   "metadata": {
    "colab": {
     "base_uri": "https://localhost:8080/"
    },
    "executionInfo": {
     "elapsed": 2278,
     "status": "ok",
     "timestamp": 1717330075956,
     "user": {
      "displayName": "김유희",
      "userId": "00390714496880607784"
     },
     "user_tz": -540
    },
    "id": "EUiAAeDPSJNZ",
    "outputId": "59614c40-7ef2-4fcb-ccdd-c3e3ab73ac7b"
   },
   "outputs": [],
   "source": [
    "from google.colab import drive\n",
    "drive.mount('/content/drive')"
   ]
  },
  {
   "cell_type": "code",
   "execution_count": null,
   "metadata": {
    "executionInfo": {
     "elapsed": 2264,
     "status": "ok",
     "timestamp": 1717324265518,
     "user": {
      "displayName": "김유희",
      "userId": "00390714496880607784"
     },
     "user_tz": -540
    },
    "id": "UMHkrGF7TwOc"
   },
   "outputs": [],
   "source": [
    "import pandas as pd\n",
    "import numpy as np\n",
    "import seaborn as sns\n",
    "import matplotlib.pyplot as plt\n",
    "from sklearn.model_selection import train_test_split, cross_val_score, GridSearchCV\n",
    "from sklearn.linear_model import SGDRegressor, LinearRegression\n",
    "from sklearn.metrics import mean_squared_error, r2_score, mean_absolute_error\n",
    "from sklearn.preprocessing import StandardScaler\n",
    "import missingno as msn\n",
    "from sklearn.compose import ColumnTransformer\n",
    "from sklearn.pipeline import Pipeline\n",
    "from sklearn.ensemble import VotingRegressor\n"
   ]
  },
  {
   "cell_type": "markdown",
   "metadata": {
    "id": "vfOMb2VsdQ51"
   },
   "source": [
    "1. 데이터 로드"
   ]
  },
  {
   "cell_type": "code",
   "execution_count": null,
   "metadata": {
    "colab": {
     "base_uri": "https://localhost:8080/"
    },
    "executionInfo": {
     "elapsed": 277,
     "status": "ok",
     "timestamp": 1717324332790,
     "user": {
      "displayName": "김유희",
      "userId": "00390714496880607784"
     },
     "user_tz": -540
    },
    "id": "mB3g6cJsdQ51",
    "outputId": "15106a50-9804-40b0-c35b-3ac26576f453"
   },
   "outputs": [],
   "source": [
    "life = pd.read_csv(\"life_expectancy.csv\")\n",
    "life\n",
    "life.columns"
   ]
  },
  {
   "cell_type": "markdown",
   "metadata": {
    "id": "wflFQW84dQ52"
   },
   "source": [
    "2. 데이터 탐색"
   ]
  },
  {
   "cell_type": "code",
   "execution_count": null,
   "metadata": {
    "colab": {
     "base_uri": "https://localhost:8080/",
     "height": 513
    },
    "executionInfo": {
     "elapsed": 2776,
     "status": "ok",
     "timestamp": 1717324340907,
     "user": {
      "displayName": "김유희",
      "userId": "00390714496880607784"
     },
     "user_tz": -540
    },
    "id": "i4DvOyb1dq_H",
    "outputId": "a7b1d9a5-f1ba-4b0c-89e6-ad3fe087372d"
   },
   "outputs": [],
   "source": [
    "# 결측값 찾기\n",
    "msn.bar(life)\n",
    "\n",
    "# 결측치 처리\n",
    "life.dropna(inplace = True)"
   ]
  },
  {
   "cell_type": "markdown",
   "metadata": {
    "id": "UbLzh6FKiPPb"
   },
   "source": [
    "3. feature engineering :  중요 특징 추출\n",
    "* garbage-in Garbage-out\n",
    "  * 특성의 수가 증가하는 만큼의 큰 성능 향상은 이루어지지 않는다.\n",
    "  * 쓸모없는 데이터가 입력으로 들어가면 쓸모없는 결과만 나올뿐 의미"
   ]
  },
  {
   "cell_type": "markdown",
   "metadata": {
    "id": "j3HQl3qSdcIh"
   },
   "source": [
    "* 상관도가 높은 특징을 기반으로 최적의 모형 찾기\n",
    "  * 피처 선택: 속성 변수 들 중에서 어떤 변수들을 잘 조합해야 좋은 예측을 할 수 있을까\n",
    "    * 상관도가(기여도)가 높은 유의한 속성 변수부터 하나씩 추가하는 방법"
   ]
  },
  {
   "cell_type": "markdown",
   "metadata": {
    "id": "ZxNUk0MLjPLh"
   },
   "source": [
    "##### 1) 기대수명과 상관도가 50% 이상 높은 특징 탐색 (Next class : 화요일 5.28)"
   ]
  },
  {
   "cell_type": "code",
   "execution_count": null,
   "metadata": {
    "colab": {
     "base_uri": "https://localhost:8080/",
     "height": 915
    },
    "executionInfo": {
     "elapsed": 9043,
     "status": "ok",
     "timestamp": 1717324358706,
     "user": {
      "displayName": "김유희",
      "userId": "00390714496880607784"
     },
     "user_tz": -540
    },
    "id": "4nsgqpk3jbL5",
    "outputId": "b925e94d-72f1-4f7f-f678-d876d98f918e"
   },
   "outputs": [],
   "source": [
    "# 범주형 데이터 수치화\n",
    "dum = pd.get_dummies(life.Country, prefix='c', dtype=float)\n",
    "life = pd.concat([life.drop('Country', axis=1), dum], axis =1)\n",
    "\n",
    "dum = pd.get_dummies(life['Status'], prefix='s',  dtype=float)\n",
    "life = pd.concat([life.drop('Status', axis=1), dum], axis =1)\n",
    "life.head()\n",
    "\n",
    "# (1) 기대수명('Life expectancy')에 관련된 다른 특성들과의 상관계수 값만을 출력\n",
    "result = life.corr()['Life expectancy']\n",
    "\n",
    "\n",
    "# 상관계수 값을 양의 상관계수로 처리\n",
    "result = np.abs(result)\n",
    "\n",
    "\n",
    "# 상관계수를 내림차순으로 정렬하기\n",
    "result.sort_values(ascending = False)\n",
    "\n",
    "# features 선택\n",
    "features = ['Life expectancy', 'Schooling', 'Income composition of resources', 'Adult mortality', 'HIV/AIDS']\n",
    "\n",
    "\n",
    "# seaborn 라이브러리의 기대수명과 상관도가 높은 4개의 특성에 대한 쌍 그래프 그리기 --- 대각선 모양의 분포\n",
    "sns.pairplot(life[features])\n",
    "plt.show()"
   ]
  },
  {
   "cell_type": "markdown",
   "metadata": {
    "id": "bzGAqEI_fyN7"
   },
   "source": [
    "##### 2) 데이터 스케일링\n"
   ]
  },
  {
   "cell_type": "code",
   "execution_count": null,
   "metadata": {
    "executionInfo": {
     "elapsed": 304,
     "status": "ok",
     "timestamp": 1717324377691,
     "user": {
      "displayName": "김유희",
      "userId": "00390714496880607784"
     },
     "user_tz": -540
    },
    "id": "txwyQr2aCjou"
   },
   "outputs": [],
   "source": [
    "# 1) X : 연속형 변수와 범주형 변수 구분\n",
    "num_features = [ 'Adult mortality',  'HIV/AIDS',  'Income composition of resources', 'Schooling']\n",
    "\n",
    "\n",
    "# 2) 전처리 파이프라인 설정\n",
    "numeric_transformer = Pipeline(steps = [\n",
    "    ('scalar', StandardScaler())\n",
    "])\n",
    "\n",
    "\n",
    "preprocessor = ColumnTransformer(\n",
    "    transformers = [\n",
    "        ('num', numeric_transformer, num_features)\n",
    "\n",
    "    ]\n",
    ")"
   ]
  },
  {
   "cell_type": "markdown",
   "metadata": {
    "id": "WwQOvYZ7dQ53"
   },
   "source": [
    "4.  X 와 y 설정"
   ]
  },
  {
   "cell_type": "code",
   "execution_count": null,
   "metadata": {
    "executionInfo": {
     "elapsed": 275,
     "status": "ok",
     "timestamp": 1717324383476,
     "user": {
      "displayName": "김유희",
      "userId": "00390714496880607784"
     },
     "user_tz": -540
    },
    "id": "cCOafogOdQ53"
   },
   "outputs": [],
   "source": [
    "X = life[num_features]\n",
    "y = life['Life expectancy']\n"
   ]
  },
  {
   "cell_type": "markdown",
   "metadata": {
    "id": "TPQt251tsAW0"
   },
   "source": [
    "5.    학습데이터와 평가데이터 분리\n",
    "*  X_train, y_train : 선형회귀 학습\n",
    "*  X_test, y_test: 모델 평가\n",
    "  * 모델이 새로운 데이터에 대하여 어느 정도의 정확도을 보일지 예측\n",
    "* 과적합: 모델이 특정한 학습 데이터에만 최적화되어 좋은 성능을 보이고, 새로운 데이터에 대해서는 좋은 성능을 나타내지 못하는 경우를 데이터의 일반화 능력이 부족"
   ]
  },
  {
   "cell_type": "code",
   "execution_count": null,
   "metadata": {
    "executionInfo": {
     "elapsed": 288,
     "status": "ok",
     "timestamp": 1717324398063,
     "user": {
      "displayName": "김유희",
      "userId": "00390714496880607784"
     },
     "user_tz": -540
    },
    "id": "b7igvufp2uTb"
   },
   "outputs": [],
   "source": [
    "# X & y 차원 구하기\n",
    "X.shape, y.shape # ((1649, 5), (1649,))\n",
    "\n",
    "X_train, X_test, y_train, y_test = train_test_split(X, y, test_size = 0.2, random_state = 42)"
   ]
  },
  {
   "cell_type": "markdown",
   "metadata": {
    "id": "tzwDCGe9ETPa"
   },
   "source": [
    "6. 앙상블 모델 생성  : LinearRegression, SGDRegressor"
   ]
  },
  {
   "cell_type": "code",
   "execution_count": null,
   "metadata": {
    "executionInfo": {
     "elapsed": 300,
     "status": "ok",
     "timestamp": 1717324435150,
     "user": {
      "displayName": "김유희",
      "userId": "00390714496880607784"
     },
     "user_tz": -540
    },
    "id": "KSi9_KTYEW_M"
   },
   "outputs": [],
   "source": [
    "# 개별 모델 정의\n",
    "\n",
    "models = [ ('lr', LinearRegression()),\n",
    "          ( 'sgd', SGDRegressor( )) ]\n",
    "\n",
    "# 앙상블 모델 정의\n",
    "\n",
    "ensemble = VotingRegressor(estimators = models)\n",
    "\n",
    "# 모델 파이프라인 생성\n",
    "\n",
    "model_pipeline = Pipeline(steps = [\n",
    "    ('preprocessor', preprocessor),\n",
    "    ('ensemble', ensemble)\n",
    "])\n",
    "\n",
    "\n",
    "# 하이퍼파라미터 튜닝\n",
    "\n",
    "param_grid = {\n",
    "    'ensemble__sgd__alpha': [0.0001, 0.1, 1.0],\n",
    "    'ensemble__sgd__max_iter': [1000, 2000, 3000]\n",
    "}"
   ]
  },
  {
   "cell_type": "markdown",
   "metadata": {
    "id": "kc6P3Gj8cy0e"
   },
   "source": [
    "7. GridSearchCV 설정 및 모델 학습\n"
   ]
  },
  {
   "cell_type": "code",
   "execution_count": null,
   "metadata": {
    "colab": {
     "base_uri": "https://localhost:8080/",
     "height": 271
    },
    "executionInfo": {
     "elapsed": 1218,
     "status": "ok",
     "timestamp": 1717324454401,
     "user": {
      "displayName": "김유희",
      "userId": "00390714496880607784"
     },
     "user_tz": -540
    },
    "id": "lzc9SxMmc7gG",
    "outputId": "225b935a-b597-4d80-e71c-446eea9658d1"
   },
   "outputs": [],
   "source": [
    "grid_search = GridSearchCV(model_pipeline, param_grid, cv=5, scoring='neg_mean_squared_error',\n",
    "                           return_train_score=True)\n",
    "grid_search.fit(X_train,y_train)\n"
   ]
  },
  {
   "cell_type": "markdown",
   "metadata": {
    "id": "sYlMavcmd_ID"
   },
   "source": [
    "8. 최적 파라미터 출력 및 최적 모델로 예측\n"
   ]
  },
  {
   "cell_type": "code",
   "execution_count": null,
   "metadata": {
    "colab": {
     "base_uri": "https://localhost:8080/"
    },
    "executionInfo": {
     "elapsed": 282,
     "status": "ok",
     "timestamp": 1717324466156,
     "user": {
      "displayName": "김유희",
      "userId": "00390714496880607784"
     },
     "user_tz": -540
    },
    "id": "othMpVBcuDiH",
    "outputId": "b9f76ccd-444c-48b5-8fe5-a4eedb4fbeca"
   },
   "outputs": [],
   "source": [
    "# 최적 파라미터 출력\n",
    "print(f\"Best parameters found :{grid_search.best_params_}\")\n",
    "\n",
    "# 최적 모델로 예측\n",
    "best_model = grid_search.best_estimator_\n",
    "y_pred = best_model.predict(X_test)"
   ]
  },
  {
   "cell_type": "markdown",
   "metadata": {
    "id": "vfitR0BJCjox"
   },
   "source": [
    "9. 예측 모델 성능 평가\n"
   ]
  },
  {
   "cell_type": "code",
   "execution_count": null,
   "metadata": {
    "colab": {
     "base_uri": "https://localhost:8080/",
     "height": 530
    },
    "executionInfo": {
     "elapsed": 870,
     "status": "ok",
     "timestamp": 1717324482970,
     "user": {
      "displayName": "김유희",
      "userId": "00390714496880607784"
     },
     "user_tz": -540
    },
    "id": "TZCgrSvBu-9G",
    "outputId": "8285cc2d-eb72-454a-8f62-ca32baf56edc"
   },
   "outputs": [],
   "source": [
    "mse = mean_squared_error(y_test, y_pred)\n",
    "mae = mean_absolute_error(y_test, y_pred)\n",
    "r2 = r2_score(y_test, y_pred)\n",
    "\n",
    "print(f\"MSE: {mse}, MAE:{mae}, R^2:{r2}\")\n",
    "\n",
    "plt.figure(figsize=(12,6))\n",
    "plt.scatter(y_test, y_pred)\n",
    "plt.plot([y_test.min(), y_test.max()], [y_test.min(), y_test.max()], 'r--', lw=2)\n",
    "plt.xlabel(\"y_test\")\n",
    "plt.ylabel(\"y_pred\")\n",
    "plt.title(\"Life expectancy\")\n",
    "# plt.show()\n",
    "plt.savefig('life.jpg')"
   ]
  },
  {
   "cell_type": "markdown",
   "metadata": {
    "id": "3wHWQAlZvwwm"
   },
   "source": [
    "10. 교차 검증\n",
    "* Overfitting 여부 판단 (학습 데이터 vs 테스트 오차 비교)"
   ]
  },
  {
   "cell_type": "code",
   "execution_count": null,
   "metadata": {
    "colab": {
     "base_uri": "https://localhost:8080/"
    },
    "executionInfo": {
     "elapsed": 309,
     "status": "ok",
     "timestamp": 1717325921878,
     "user": {
      "displayName": "김유희",
      "userId": "00390714496880607784"
     },
     "user_tz": -540
    },
    "id": "KlQkC7iEv2gH",
    "outputId": "6ffd3963-f055-4df0-f56f-cc8f52343662"
   },
   "outputs": [],
   "source": [
    "cv_score = cross_val_score(best_model, X, y, cv = 5, scoring='neg_mean_squared_error')\n",
    "print(cv_score)\n",
    "cv_mse = -cv_score.mean()\n",
    "print(f'Cross-Validated MSE:{cv_mse}')"
   ]
  },
  {
   "cell_type": "code",
   "execution_count": null,
   "metadata": {
    "colab": {
     "base_uri": "https://localhost:8080/"
    },
    "executionInfo": {
     "elapsed": 296,
     "status": "ok",
     "timestamp": 1717325896974,
     "user": {
      "displayName": "김유희",
      "userId": "00390714496880607784"
     },
     "user_tz": -540
    },
    "id": "zomgIJWqxE8c",
    "outputId": "f17d0756-4b3f-48ac-8113-2ceec0a02d16"
   },
   "outputs": [],
   "source": [
    "train_pred = best_model.predict(X_train)\n",
    "train_mse = mean_squared_error(y_train, train_pred)\n",
    "print(f'Training MSE: {train_mse}')"
   ]
  },
  {
   "cell_type": "code",
   "execution_count": null,
   "metadata": {
    "colab": {
     "base_uri": "https://localhost:8080/"
    },
    "executionInfo": {
     "elapsed": 5,
     "status": "ok",
     "timestamp": 1717325954212,
     "user": {
      "displayName": "김유희",
      "userId": "00390714496880607784"
     },
     "user_tz": -540
    },
    "id": "gwcGGD_7lFjJ",
    "outputId": "72ddd67a-8d55-4e18-ca1e-b8eb1bb66075"
   },
   "outputs": [],
   "source": [
    "y_test_pred = best_model.predict(X_test)\n",
    "test_mse = mean_squared_error(y_test, y_test_pred)\n",
    "print(f'Testing MSE: {test_mse}')"
   ]
  },
  {
   "cell_type": "markdown",
   "metadata": {
    "id": "OkTuSI5mxpmk"
   },
   "source": [
    "11. 베스트 모델 결과 시각화\n",
    "* 에폭을 X축으로, 훈련 점수 및 테스트 점수 시각화"
   ]
  },
  {
   "cell_type": "code",
   "execution_count": null,
   "metadata": {
    "colab": {
     "base_uri": "https://localhost:8080/",
     "height": 1000
    },
    "executionInfo": {
     "elapsed": 2356,
     "status": "ok",
     "timestamp": 1717325991239,
     "user": {
      "displayName": "김유희",
      "userId": "00390714496880607784"
     },
     "user_tz": -540
    },
    "id": "1D9frhSND5fI",
    "outputId": "f37e9063-830b-4453-e041-480a8ac05fd4"
   },
   "outputs": [],
   "source": [
    "# GridSearchCV 결과 분석\n",
    "results = pd.DataFrame(grid_search.cv_results_)\n",
    "results\n",
    "# 에폭을 X축으로, 훈련 점수 및 테스트 점수 시각화\n",
    "plt.figure(figsize=(12, 6))\n",
    "plt.plot(range(len(results['mean_train_score'])), -results['mean_train_score'], label='Train MSE')\n",
    "plt.plot(range(len(results['mean_test_score'])), -results['mean_test_score'], label='Test MSE')\n",
    "plt.xlabel('Epoch (GridSearchCV parameter sets)')\n",
    "plt.ylabel('Mean Squared Error')\n",
    "plt.title('Train vs Test MSE')\n",
    "plt.legend()\n",
    "plt.show()\n",
    "\n",
    "# 더 많은 파라미터에 대한 시각화\n",
    "for param in param_grid:\n",
    "    plt.figure(figsize=(12, 6))\n",
    "    for value in results['param_' + param].unique():\n",
    "        subset = results[results['param_' + param] == value]\n",
    "        plt.plot(range(len(subset)), -subset['mean_train_score'], label=f'Train {param}={value}')\n",
    "        plt.plot(range(len(subset)), -subset['mean_test_score'], label=f'Test {param}={value}')\n",
    "    plt.xlabel('Epoch (GridSearchCV parameter sets)')\n",
    "    plt.ylabel('Mean Squared Error')\n",
    "    plt.title(f'Train vs Test MSE for different values of {param}')\n",
    "    plt.legend()\n",
    "    plt.show()\n"
   ]
  },
  {
   "cell_type": "code",
   "execution_count": null,
   "metadata": {
    "colab": {
     "base_uri": "https://localhost:8080/",
     "height": 400
    },
    "executionInfo": {
     "elapsed": 1207,
     "status": "ok",
     "timestamp": 1717326013166,
     "user": {
      "displayName": "김유희",
      "userId": "00390714496880607784"
     },
     "user_tz": -540
    },
    "id": "4cxeYwx1xFRD",
    "outputId": "52ec2d94-9a36-47ae-eda1-4f6ef9e35519"
   },
   "outputs": [],
   "source": [
    "plt.figure(figsize=(14,6))\n",
    "\n",
    "# 실제 vs 예측 비교\n",
    "plt.subplot(1,2,1)\n",
    "plt.scatter(y_test, y_pred)\n",
    "plt.plot([y_test.min(), y_test.max()], [y_test.min(), y_test.max()], 'r--', lw=2)\n",
    "plt.xlabel('Actual')\n",
    "plt.ylabel(\"Predicted\")\n",
    "plt.title('Actual vs Predicted')\n",
    "\n",
    "# 잔차 히스트그램\n",
    "plt.subplot(1,2,2)\n",
    "sns.histplot(y_test - y_pred, kde=True)\n",
    "plt.xlabel('residual')\n",
    "plt.ylabel('Residual Histgram')\n",
    "plt.title('Residual Histogram')\n",
    "plt.tight_layout()\n",
    "plt.show()"
   ]
  },
  {
   "cell_type": "code",
   "execution_count": null,
   "metadata": {
    "id": "F0mhfT8Jv1Rl"
   },
   "outputs": [],
   "source": []
  },
  {
   "cell_type": "markdown",
   "metadata": {
    "id": "vma1AiRh99fy"
   },
   "source": [
    "### Note: 다항회귀모델 문제\n",
    "* X값의 범위가 -4에서 4 사이의 값이고, 다음의 3차 방정식을 만족하는 분포를 가지는 y데이터를 생성한다.\n",
    "* 데이터의 갯수는 100개 이며, y 값에 정규분포를 따르는 난수가 들어가도록 한다.\n",
    "* 과대적합 주의\n",
    "  * 다항 회귀 모델의 항이 많아지고 차수가 커질수록 모델의 표현 능력이 좋아짐\n"
   ]
  },
  {
   "cell_type": "code",
   "execution_count": null,
   "metadata": {
    "colab": {
     "base_uri": "https://localhost:8080/",
     "height": 1000
    },
    "executionInfo": {
     "elapsed": 1884,
     "status": "ok",
     "timestamp": 1716818902318,
     "user": {
      "displayName": "김유희",
      "userId": "00390714496880607784"
     },
     "user_tz": -540
    },
    "id": "afDGXk38PlOt",
    "outputId": "a706c564-7a95-47bb-e9b6-d6477592f71d"
   },
   "outputs": [],
   "source": [
    "import numpy as np\n",
    "from sklearn.linear_model import LinearRegression\n",
    "from sklearn.model_selection import train_test_split\n",
    "import matplotlib.pyplot as plt\n",
    "\n",
    "# 20개의 데이터를 생성하고 시각화\n",
    "m = 20\n",
    "X = 8 * np.random.rand(m, 1) - 4\n",
    "y = .5 * X ** 3 + .5 * X ** 2 + X + 3 + np.random.rand(m,1)\n",
    "\n",
    "# 20개의 데이터를 학습용 데이터, 테스트 데이터로 분리\n",
    "X_train, X_test, y_train, y_test = train_test_split(X, y)\n",
    "\n",
    "plt.figure(figsize = (12,6))\n",
    "plt.subplot(1,2,1)\n",
    "plt.xlim(-5, 5) # X 의 범위 지정\n",
    "plt.ylim(-28,50)\n",
    "plt.plot(X_train, y_train, \"b^\") #학습용 데이터\n",
    "\n",
    "# 다항회귀 모델을 만들고 점수와 계수, 절편을 출력\n",
    "from sklearn.preprocessing import PolynomialFeatures\n",
    "\n",
    "# 다항 특성이 20개가 되도록 만들기 - 차수가 20인 다항 특성을 생성\n",
    "poly_features = PolynomialFeatures(degree = 20,\\\n",
    "                                   include_bias = False)\n",
    "X_poly = poly_features.fit_transform(X_train)\n",
    "model = LinearRegression()\n",
    "model.fit(X_poly, y_train)\n",
    "print(\"다항회귀모델의 함수 = \", model.score(X_poly, y_train).round(2))\n",
    "print(\"다항 회귀 모델의 계수 =\", model.coef_)\n",
    "print(\"다항 회귀 모델의 절편 =\", model.intercept_) # 좋은 점수이 나오는 이유는 많은 항의 계수들 덕분에 학습 데이터에 튜닝이 되었기때문에\n",
    "\n",
    "# 테스트 데이터를 다항 회귀 모델의 입력으로 주고 예측 점수를 구하기\n",
    "X_poly = poly_features.fit_transform(X_test)\n",
    "print(\"테스트 데이터에 대한 다항회귀모델의 점수 = \", model.score(X_poly, y_test).round(2))\n",
    "\n",
    "# 다항 회귀 곡선 그리기\n",
    "X_new = np.linspace(-4, 4, 100).reshape(100,1)\n",
    "X_new_poly = poly_features.transform(X_new)\n",
    "y_new = model.predict(X_new_poly)\n",
    "\n",
    "\n",
    "#학습용 데이터와 다항 회귀 곡선을 그려보고 테스트 데이터 그리기\n",
    "plt.subplot(1,2,2)\n",
    "plt.xlim(-5, 5) # X 의 범위 지정\n",
    "plt.ylim(-28,50)\n",
    "plt.plot(X_train, y_train, \"b^\", label=\"training data\")\n",
    "plt.scatter(X_test, y_test, c = 'red', s= 200, alpha = 0.4, label = \"test data\")\n",
    "plt.plot(X_new, y_new, \"g-\", label = \"Prediction curve\")\n",
    "plt.legend()\n",
    "plt.savefig(\"overfitting.jpg\")\n"
   ]
  },
  {
   "cell_type": "markdown",
   "metadata": {
    "id": "_lBY2Hz6EuSr"
   },
   "source": [
    "## [심화 프로그래밍 문제] - Ridge\n",
    "* 개선 모델링\n",
    "* 기본 선형 회귀 모델을 최적화하여 예측 성능을 향상시키기 위해 방식을 사용\n",
    "* 정규화를 추가한 Ridge 회귀 모델을 사용하여 성능을 향상\n",
    "* Ridge 회귀는 L2 정규화를 통해 모델의 복잡성을 제어하고, 과적합을 방지\n",
    "  * 릿지 회귀와 alpha 값\n",
    "    * 모든 입력값에 대하여 표준 스케일러를 사용하여 스케일을 적용한 후에 사용\n",
    "    * 이렇게 표준 스케일러를 사용하는 이유는 릿지 회귀 모델이 입력 값의 스케일에 매우 민감하게 수행하기 때문이다.\n"
   ]
  },
  {
   "cell_type": "markdown",
   "metadata": {
    "id": "zcmrdDmnnqdx"
   },
   "source": [
    "![image.png](data:image/png;base64,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)"
   ]
  },
  {
   "cell_type": "markdown",
   "metadata": {
    "id": "qYvm4iWvDGaN"
   },
   "source": [
    "* 개선 : 주택가격 예측\n",
    "  * Kaggle 사이트의 공개 데이터를 바탕으로 Califonia 주택가격 예측 모델링\n",
    "  * LinearRegression\n",
    "  * Ridge\n",
    "  * SGDRegressor"
   ]
  },
  {
   "cell_type": "code",
   "execution_count": null,
   "metadata": {
    "colab": {
     "base_uri": "https://localhost:8080/",
     "height": 1000
    },
    "executionInfo": {
     "elapsed": 3328,
     "status": "ok",
     "timestamp": 1717326186543,
     "user": {
      "displayName": "김유희",
      "userId": "00390714496880607784"
     },
     "user_tz": -540
    },
    "id": "R6euXXUDh-_9",
    "outputId": "e3358edb-f414-45d2-91ec-42ffbe1ac79a"
   },
   "outputs": [],
   "source": [
    "# [method1]\n",
    "# Ridge Regression은 규제 항을 도입하여 과적합을 방지하고 일반화 성능을 향상\n",
    "# Ridge 회귀 모델을 사용하여 주택 가격을 예측하고, 성능을 평가\n",
    "# 전체 파이프라인을 완성하고, 모델의 성능을 개선하며, 시각화를 통해 결과를 분석\n",
    "\n",
    "# 라이브러리 임포트\n",
    "import pandas as pd\n",
    "import numpy as np\n",
    "import seaborn as sns\n",
    "import matplotlib.pyplot as plt\n",
    "from sklearn.model_selection import train_test_split, cross_val_score\n",
    "from sklearn.linear_model import Ridge\n",
    "from sklearn.metrics import mean_squared_error, r2_score, mean_absolute_error\n",
    "from sklearn.preprocessing import StandardScaler\n",
    "\n",
    "# 데이터 로드\n",
    "housing_train = pd.read_csv(\"california_housing_train.csv\")\n",
    "housing_test = pd.read_csv(\"california_housing_test.csv\")\n",
    "\n",
    "# 데이터 탐색\n",
    "housing_train.head()\n",
    "housing_train.info()\n",
    "housing_train.shape, housing_test.shape\n",
    "housing_train.columns\n",
    "\n",
    "# 데이터 분포 시각화\n",
    "result = housing_train.corr()['median_house_value']\n",
    "result = np.abs(result).sort_values(ascending=False)\n",
    "print(result)\n",
    "\n",
    "num_features = ['median_income', 'median_house_value']\n",
    "sns.pairplot(housing_train[num_features])\n",
    "plt.show()\n",
    "print()\n",
    "\n",
    "# 학습 데이터 & 테스트 데이터\n",
    "X_train = housing_train[['median_income']]\n",
    "X_test = housing_test[['median_income']]\n",
    "y_train = housing_train['median_house_value']\n",
    "y_test = housing_test['median_house_value']\n",
    "\n",
    "X_train = X_train.to_numpy().reshape(-1, 1)\n",
    "X_test = X_test.to_numpy().reshape(-1, 1)\n",
    "y_train = y_train.to_numpy().reshape(-1, 1)\n",
    "y_test = y_test.to_numpy().reshape(-1, 1)\n",
    "\n",
    "# 데이터 스케일링\n",
    "scaler = StandardScaler()\n",
    "X_train_scaled = scaler.fit_transform(X_train)\n",
    "X_test_scaled = scaler.transform(X_test)\n",
    "\n",
    "# 릿지 모델과 파라미터 alpha 값\n",
    "train_scores = []\n",
    "test_scores = []\n",
    "alpha_values = [0.01, 1, 10, 100, 1000]\n",
    "for a in alpha_values:\n",
    "    model = Ridge(alpha=a)\n",
    "    model.fit(X_train_scaled, y_train)\n",
    "    train_scores.append(model.score(X_train_scaled, y_train))\n",
    "    test_scores.append(model.score(X_test_scaled, y_test))\n",
    "\n",
    "plt.figure(figsize=(12,6))\n",
    "plt.plot(np.log10(alpha_values), train_scores, 'r-', label='Train scores')\n",
    "plt.plot(np.log10(alpha_values), test_scores, 'b:', label='Test scores')\n",
    "plt.xlabel('Alpha value : 10^x scaled')\n",
    "plt.ylabel('Ridge Regression Score')\n",
    "plt.legend(loc='lower left')\n",
    "plt.show()\n",
    "\n",
    "# 교차검증\n",
    "model = Ridge(alpha=1)\n",
    "cv_scores = cross_val_score(model, X_train_scaled, y_train, cv=5, scoring='neg_mean_squared_error')\n",
    "cv_mse = -cv_scores.mean()\n",
    "print(f'Cross-Validation MSE: {cv_mse}')\n",
    "\n",
    "# overfitting 여부 판단\n",
    "model.fit(X_train_scaled, y_train)\n",
    "train_pred = model.predict(X_train_scaled)\n",
    "train_mse = mean_squared_error(y_train, train_pred)\n",
    "print(f'Training MSE: {train_mse}')\n",
    "\n",
    "test_pred = model.predict(X_test_scaled)\n",
    "test_mse = mean_squared_error(y_test, test_pred)\n",
    "print(f'Test MSE: {test_mse}')\n",
    "r2 = r2_score(y_test, test_pred)\n",
    "print(f'Test R^2: {r2}')\n",
    "\n",
    "# 실제 값과 예측 값 시각화\n",
    "plt.figure(figsize=(12, 6))\n",
    "plt.subplot(1,2,1)\n",
    "plt.scatter(y_test, test_pred)\n",
    "plt.plot([y_test.min(), y_test.max()], [y_test.min(), y_test.max()], 'r--')\n",
    "plt.xlabel('Actual Values')\n",
    "plt.ylabel('Predicted Values')\n",
    "plt.title('Actual vs Predicted House Values')\n",
    "\n",
    "\n",
    "# 잔차 히스토그램\n",
    "residuals = y_test - test_pred\n",
    "plt.subplot(1,2,2)\n",
    "sns.histplot(residuals,kde=True)\n",
    "plt.xlabel('Residuals')\n",
    "plt.ylabel('Count')\n",
    "plt.title('Residual Histogram')\n",
    "plt.show()\n"
   ]
  },
  {
   "cell_type": "code",
   "execution_count": null,
   "metadata": {
    "colab": {
     "base_uri": "https://localhost:8080/",
     "height": 835
    },
    "executionInfo": {
     "elapsed": 3502,
     "status": "ok",
     "timestamp": 1717326237697,
     "user": {
      "displayName": "김유희",
      "userId": "00390714496880607784"
     },
     "user_tz": -540
    },
    "id": "rLTr9_kfntJk",
    "outputId": "df6eb255-0cfa-40e0-9470-0c792aa48d13"
   },
   "outputs": [],
   "source": [
    "# method 2\n",
    "# linear Regression과 Ridge Regression 모델의 성능을 비교하고, 각 모델의 예측 성능을 시각적으로 평가\n",
    "# 라이브러리 임포트\n",
    "import pandas as pd\n",
    "import numpy as np\n",
    "import seaborn as sns\n",
    "import matplotlib.pyplot as plt\n",
    "from sklearn.model_selection import train_test_split, cross_val_score\n",
    "from sklearn.linear_model import LinearRegression, Ridge\n",
    "from sklearn.metrics import mean_squared_error, r2_score, mean_absolute_error\n",
    "from sklearn.preprocessing import StandardScaler\n",
    "\n",
    "# 데이터 로드\n",
    "housing_train = pd.read_csv(\"california_housing_train.csv\")\n",
    "housing_test = pd.read_csv(\"california_housing_test.csv\")\n",
    "\n",
    "\n",
    "\n",
    "# 학습 데이터 & 테스트 데이터\n",
    "X_train = housing_train[['median_income']]\n",
    "X_test = housing_test[['median_income']]\n",
    "y_train = housing_train['median_house_value']\n",
    "y_test = housing_test['median_house_value']\n",
    "\n",
    "X_train = X_train.to_numpy().reshape(-1, 1)\n",
    "X_test = X_test.to_numpy().reshape(-1, 1)\n",
    "y_train = y_train.to_numpy().reshape(-1, 1)\n",
    "y_test = y_test.to_numpy().reshape(-1, 1)\n",
    "\n",
    "# 데이터 스케일링\n",
    "scaler = StandardScaler()\n",
    "X_train_scaled = scaler.fit_transform(X_train)\n",
    "X_test_scaled = scaler.transform(X_test)\n",
    "\n",
    "\n",
    "# Linear Regression 모델 생성\n",
    "linear_model = LinearRegression()\n",
    "linear_model.fit(X_train_scaled, y_train)\n",
    "\n",
    "# Ridge Regression 모델 생성\n",
    "ridge_model = Ridge(alpha=1)\n",
    "ridge_model.fit(X_train_scaled, y_train)\n",
    "\n",
    "# 성능 평가 - Linear Regression\n",
    "linear_train_pred = linear_model.predict(X_train_scaled)\n",
    "linear_test_pred = linear_model.predict(X_test_scaled)\n",
    "linear_train_mse = mean_squared_error(y_train, linear_train_pred)\n",
    "linear_test_mse = mean_squared_error(y_test, linear_test_pred)\n",
    "linear_train_r2 = r2_score(y_train, linear_train_pred)\n",
    "linear_test_r2 = r2_score(y_test, linear_test_pred)\n",
    "linear_train_mae = mean_absolute_error(y_train, linear_train_pred)\n",
    "linear_test_mae = mean_absolute_error(y_test, linear_test_pred)\n",
    "print(f'Linear_model-> Testing MSE: {linear_test_mse}, Testing MAE: {linear_test_mae}, Testing R^2: {linear_test_r2}')\n",
    "\n",
    "\n",
    "\n",
    "# 성능 평가 - Ridge Regression\n",
    "ridge_train_pred = ridge_model.predict(X_train_scaled)\n",
    "ridge_test_pred = ridge_model.predict(X_test_scaled)\n",
    "ridge_train_mse = mean_squared_error(y_train, ridge_train_pred)\n",
    "ridge_test_mse = mean_squared_error(y_test, ridge_test_pred)\n",
    "ridge_train_r2 = r2_score(y_train, ridge_train_pred)\n",
    "ridge_test_r2 = r2_score(y_test, ridge_test_pred)\n",
    "ridge_train_mae = mean_absolute_error(y_train, ridge_train_pred)\n",
    "ridge_test_mae = mean_absolute_error(y_test, ridge_test_pred)\n",
    "print(f'Ridge_model-> Testing MSE: {ridge_test_mse}, Testing MAE: {ridge_test_mae}, Testing R^2: {ridge_test_r2}')\n",
    "\n",
    "\n",
    "# 실제 값과 예측 값 시각화\n",
    "plt.figure(figsize=(12, 6))\n",
    "plt.subplot(1,2,1)\n",
    "plt.scatter(y_test, linear_test_pred, alpha=0.5, label='Linear Predictions')\n",
    "plt.plot([y_test.min(), y_test.max()], [y_test.min(), y_test.max()], 'k--', lw=2)\n",
    "plt.xlabel('Actual Values')\n",
    "plt.ylabel('Predicted Values')\n",
    "plt.title('Actual vs Predicted House Values')\n",
    "plt.legend()\n",
    "\n",
    "plt.subplot(1,2,2)\n",
    "plt.scatter(y_test, ridge_test_pred, alpha=0.5, label='Ridge Predictions', color='r')\n",
    "plt.plot([y_test.min(), y_test.max()], [y_test.min(), y_test.max()], 'k--', lw=2)\n",
    "plt.xlabel('Actual Values')\n",
    "plt.ylabel('Predicted Values')\n",
    "plt.title('Actual vs Predicted House Values')\n",
    "plt.legend()\n",
    "\n",
    "plt.tight_layout()\n",
    "plt.show()\n",
    "print()\n",
    "\n",
    "# 잔차 히스토그램 - Linear Regression\n",
    "plt.figure(figsize=(17,6))\n",
    "plt.subplot(1,2,1)\n",
    "linear_residuals = y_test - linear_test_pred\n",
    "sns.histplot(linear_residuals, bins=10, kde=True, color='b')\n",
    "plt.xlabel('Residuals')\n",
    "plt.ylabel('Count')\n",
    "plt.title('Residual Histogram - Linear Regression')\n",
    "\n",
    "\n",
    "# 잔차 히스토그램 - Ridge Regression\n",
    "plt.subplot(1,2,2)\n",
    "ridge_residuals = y_test - ridge_test_pred\n",
    "sns.histplot(ridge_residuals, bins=10, kde=True, color='r')\n",
    "plt.xlabel('Residuals')\n",
    "plt.ylabel('Count')\n",
    "plt.title('Residual Histogram - Ridge Regression')\n",
    "plt.tight_layout()\n",
    "plt.show()\n"
   ]
  },
  {
   "cell_type": "code",
   "execution_count": null,
   "metadata": {
    "colab": {
     "base_uri": "https://localhost:8080/",
     "height": 1000
    },
    "executionInfo": {
     "elapsed": 2295,
     "status": "ok",
     "timestamp": 1717326312127,
     "user": {
      "displayName": "김유희",
      "userId": "00390714496880607784"
     },
     "user_tz": -540
    },
    "id": "rkqGZu1QtOgc",
    "outputId": "80d1ea1a-4e87-4d2d-9dbc-73158042bd34"
   },
   "outputs": [],
   "source": [
    "# [Method 3] 개선 모델 : 다양한 피처들을 선택\n",
    "# 라이브러리 임포트\n",
    "import pandas as pd\n",
    "import numpy as np\n",
    "import seaborn as sns\n",
    "import matplotlib.pyplot as plt\n",
    "from sklearn.model_selection import train_test_split, cross_val_score\n",
    "from sklearn.linear_model import LinearRegression, Ridge\n",
    "from sklearn.metrics import mean_squared_error, r2_score, mean_absolute_error\n",
    "from sklearn.preprocessing import StandardScaler\n",
    "\n",
    "# 데이터 로드\n",
    "housing_train = pd.read_csv(\"california_housing_train.csv\")\n",
    "housing_test = pd.read_csv(\"california_housing_test.csv\")\n",
    "\n",
    "\n",
    "# 데이터 탐색\n",
    "\n",
    "\n",
    "# 데이터 분포 시각화\n",
    "result = housing_train.corr()['median_house_value']\n",
    "result = np.abs(result).sort_values(ascending=False)\n",
    "print(result)\n",
    "\n",
    "# 여러 피처 선택\n",
    "num_features = ['median_income', 'total_rooms', 'housing_median_age', 'total_bedrooms', 'population', 'households']\n",
    "# sns.pairplot(housing_train[num_features + ['median_house_value']])\n",
    "# plt.show()\n",
    "# print()\n",
    "\n",
    "# 학습 데이터와 평가 데이터 분리\n",
    "X_train = housing_train[num_features]\n",
    "X_test = housing_test[num_features]\n",
    "y_train = housing_train['median_house_value']\n",
    "y_test = housing_test['median_house_value']\n",
    "\n",
    "# 데이터 스케일링\n",
    "scaler = StandardScaler()\n",
    "X_train_scaled = scaler.fit_transform(X_train)\n",
    "X_test_scaled = scaler.transform(X_test)\n",
    "\n",
    "# Linear Regression 모델 학습\n",
    "linear_model = LinearRegression()\n",
    "linear_model.fit(X_train_scaled, y_train)\n",
    "\n",
    "# Ridge Regression 모델 학습\n",
    "ridge_model = Ridge(alpha=1)\n",
    "ridge_model.fit(X_train_scaled, y_train)\n",
    "\n",
    "# 성능 평가 - Linear Regression\n",
    "linear_train_pred = linear_model.predict(X_train_scaled)\n",
    "linear_test_pred = linear_model.predict(X_test_scaled)\n",
    "linear_train_mse = mean_squared_error(y_train, linear_train_pred)\n",
    "linear_test_mse = mean_squared_error(y_test, linear_test_pred)\n",
    "linear_train_r2 = r2_score(y_train, linear_train_pred)\n",
    "linear_test_r2 = r2_score(y_test, linear_test_pred)\n",
    "linear_train_mae = mean_absolute_error(y_train, linear_train_pred)\n",
    "linear_test_mae = mean_absolute_error(y_test, linear_test_pred)\n",
    "print(f'Linear_model-> Testing MSE: {linear_test_mse}, Testing MAE: {linear_test_mae}, Testing R^2: {linear_test_r2}')\n",
    "\n",
    "\n",
    "\n",
    "# 성능 평가 - Ridge Regression\n",
    "ridge_train_pred = ridge_model.predict(X_train_scaled)\n",
    "ridge_test_pred = ridge_model.predict(X_test_scaled)\n",
    "ridge_train_mse = mean_squared_error(y_train, ridge_train_pred)\n",
    "ridge_test_mse = mean_squared_error(y_test, ridge_test_pred)\n",
    "ridge_train_r2 = r2_score(y_train, ridge_train_pred)\n",
    "ridge_test_r2 = r2_score(y_test, ridge_test_pred)\n",
    "ridge_train_mae = mean_absolute_error(y_train, ridge_train_pred)\n",
    "ridge_test_mae = mean_absolute_error(y_test, ridge_test_pred)\n",
    "print(f'Ridge_model-> Testing MSE: {ridge_test_mse}, Testing MAE: {ridge_test_mae}, Testing R^2: {ridge_test_r2}')\n",
    "\n",
    "# 실제 값과 예측 값 시각화\n",
    "plt.figure(figsize=(12, 6))\n",
    "plt.subplot(1,2,1)\n",
    "plt.scatter(y_test, linear_test_pred, alpha=0.5, label='Linear Predictions')\n",
    "plt.plot([y_test.min(), y_test.max()], [y_test.min(), y_test.max()], 'k--', lw=2)\n",
    "plt.xlabel('Actual Values')\n",
    "plt.ylabel('Predicted Values')\n",
    "plt.title('Actual vs Predicted House Values')\n",
    "plt.legend()\n",
    "\n",
    "plt.subplot(1,2,2)\n",
    "plt.scatter(y_test, ridge_test_pred, alpha=0.5, label='Ridge Predictions', color='r')\n",
    "plt.plot([y_test.min(), y_test.max()], [y_test.min(), y_test.max()], 'k--', lw=2)\n",
    "plt.xlabel('Actual Values')\n",
    "plt.ylabel('Predicted Values')\n",
    "plt.title('Actual vs Predicted House Values')\n",
    "plt.legend()\n",
    "\n",
    "plt.tight_layout()\n",
    "plt.show()\n",
    "print()\n",
    "\n",
    "# 잔차 히스토그램 - Linear Regression\n",
    "plt.figure(figsize=(17, 6))\n",
    "plt.subplot(1,2,1)\n",
    "linear_residuals = y_test - linear_test_pred\n",
    "sns.histplot(linear_residuals, bins=20, kde=True)\n",
    "plt.xlabel('Residuals')\n",
    "plt.ylabel('Count')\n",
    "plt.title('Residual Histogram - Linear Regression')\n",
    "\n",
    "\n",
    "# 잔차 히스토그램 - Ridge Regression\n",
    "ridge_residuals = y_test - ridge_test_pred\n",
    "plt.subplot(1,2,2)\n",
    "sns.histplot(ridge_residuals, bins=20, kde=True, color='r')\n",
    "plt.xlabel('Residuals')\n",
    "plt.ylabel('Count')\n",
    "plt.title('Residual Histogram - Ridge Regression')\n",
    "\n",
    "plt.tight_layout()\n",
    "plt.show()\n"
   ]
  },
  {
   "cell_type": "code",
   "execution_count": null,
   "metadata": {
    "colab": {
     "base_uri": "https://localhost:8080/"
    },
    "executionInfo": {
     "elapsed": 21068,
     "status": "ok",
     "timestamp": 1717326547310,
     "user": {
      "displayName": "김유희",
      "userId": "00390714496880607784"
     },
     "user_tz": -540
    },
    "id": "uOU6nj64y3v_",
    "outputId": "4e61ad7f-68b8-4704-f3c9-c8371fda5d7e"
   },
   "outputs": [],
   "source": [
    "# [method 4] 개선 모델\n",
    "# 여러 피처를 사용하고 개선한 모델 파이프라인을 포함하여 최적의 모델을 찾는 과정을 추가\n",
    "# 라이브러리 임포트\n",
    "import pandas as pd\n",
    "import numpy as np\n",
    "import seaborn as sns\n",
    "import matplotlib.pyplot as plt\n",
    "from sklearn.model_selection import train_test_split, cross_val_score, GridSearchCV\n",
    "from sklearn.linear_model import SGDRegressor, LinearRegression, Ridge\n",
    "from sklearn.metrics import mean_squared_error, r2_score, mean_absolute_error\n",
    "from sklearn.preprocessing import StandardScaler, OneHotEncoder\n",
    "from sklearn.compose import ColumnTransformer\n",
    "from sklearn.pipeline import Pipeline\n",
    "from sklearn.ensemble import VotingRegressor\n",
    "\n",
    "# 데이터 로드\n",
    "housing_train = pd.read_csv(\"california_housing_train.csv\")\n",
    "housing_test = pd.read_csv(\"california_housing_test.csv\")\n",
    "\n",
    "\n",
    "# 데이터 탐색\n",
    "\n",
    "\n",
    "# 데이터 분포 시각화\n",
    "# 주택 가격('median_house_value')에 관련된 다른 피처들과의 상관계수 구하기\n",
    "# result = housing_train.corr()['median_house_value']\n",
    "# result = np.abs(result).sort_values(ascending=False)\n",
    "# print(result)\n",
    "\n",
    "# 피처 선택\n",
    "num_features = ['latitude', 'housing_median_age', 'total_rooms', 'median_income', 'total_bedrooms', 'population']\n",
    "\n",
    "# 데이터의 대각선 모양의 분포 - seaborn 라이브러리의 주택가격과 상관도가 높은 피처에 대한 쌍 그래프 그리기\n",
    "# sns.pairplot(housing_train[num_features])\n",
    "# plt.show()\n",
    "\n",
    "# 전처리 작업\n",
    "# 1) 데이터 스케일링\n",
    "# num_features = ['latitude', 'housing_median_age', 'total_rooms', 'median_income']\n",
    "\n",
    "# 2) 전처리 파이프라인 설정\n",
    "numeric_transformer = Pipeline(steps=[\n",
    "    ('scaler', StandardScaler())\n",
    "])\n",
    "\n",
    "preprocessor = ColumnTransformer(\n",
    "    transformers=[\n",
    "        ('num', numeric_transformer, num_features)\n",
    "    ]\n",
    ")\n",
    "\n",
    "# 학습데이터와 평가 데이터 설정\n",
    "# 1) X & y 설정\n",
    "X_train = housing_train[num_features]\n",
    "X_test = housing_test[num_features]\n",
    "y_train = housing_train['median_house_value']\n",
    "y_test = housing_test['median_house_value']\n",
    "\n",
    "X_train.shape, y_train.shape\n",
    "print(type(X_train))\n",
    "print(type(X_test))\n",
    "\n",
    "# 모델 생성 : LinearRegression, SGDRegressor, Ridge\n",
    "# 1) 개별 모델 정의\n",
    "models = [('lr', LinearRegression()),\n",
    "          ('sgd', SGDRegressor(random_state=42)),\n",
    "          ('ridge', Ridge(random_state=42))]\n",
    "\n",
    "# 2) 앙상블 모델 정의\n",
    "ensemble = VotingRegressor(estimators=models)\n",
    "\n",
    "# 3) 파이프라인 생성\n",
    "model_pipeline = Pipeline(steps=[\n",
    "    ('preprocessor', preprocessor),\n",
    "    ('ensemble', ensemble)\n",
    "])\n",
    "\n",
    "# 4) 하이퍼파라미터 튜닝\n",
    "param_grid = {\n",
    "    'ensemble__sgd__alpha': [ 0.001, 0.01, 1.0],\n",
    "    'ensemble__sgd__max_iter': [1000, 2000, 3000],\n",
    "    'ensemble__ridge__alpha': [10, 20, 30]\n",
    "}\n",
    "\n",
    "# GridSearchCV 모델 설정 및 학습 및 성능 평가\n",
    "grid_search = GridSearchCV(model_pipeline, param_grid, cv=5,\n",
    "                           scoring='neg_mean_squared_error', return_train_score=True)\n",
    "grid_search.fit(X_train, y_train)\n",
    "\n",
    "# 최적 파라미터를 이용하여 최적 모델로 예측하기\n",
    "# 1) 최적 파라미터 출력\n",
    "print(f'Best parameters found: {grid_search.best_params_}')\n",
    "\n",
    "# 2) 최적 모델 출력\n",
    "best_model = grid_search.best_estimator_\n",
    "\n",
    "# 3) 최적 모델로 예측\n",
    "y_pred = best_model.predict(X_test)\n",
    "\n",
    "# 4) 최적 모델 성능 평가 및 시각화\n",
    "mse = mean_squared_error(y_test, y_pred)\n",
    "mae = mean_absolute_error(y_test, y_pred)\n",
    "r2 = r2_score(y_test, y_pred)\n",
    "\n",
    "print(f'MSE: {mse}, MAE: {mae}, R^2: {r2}')\n",
    "\n",
    "# 5) 교차검증\n",
    "cv_score = cross_val_score(best_model, X_train, y_train, cv=5, scoring='neg_mean_squared_error')\n",
    "cv_mse = -cv_score.mean()\n",
    "print(f'Cross-Validation MSE: {cv_mse}')\n",
    "# overfitting 여부 판단 (학습데이터 vs 테스트 오차 비교)\n",
    "train_pred = best_model.predict(X_train)\n",
    "train_mse = mean_squared_error(y_train, train_pred)\n",
    "print(f'Training MSE: {train_mse}')\n",
    "\n"
   ]
  },
  {
   "cell_type": "code",
   "execution_count": null,
   "metadata": {
    "colab": {
     "base_uri": "https://localhost:8080/"
    },
    "executionInfo": {
     "elapsed": 990690,
     "status": "ok",
     "timestamp": 1717331126979,
     "user": {
      "displayName": "김유희",
      "userId": "00390714496880607784"
     },
     "user_tz": -540
    },
    "id": "zZnHEMmXu9jy",
    "outputId": "3c253b2d-2163-44dd-c443-f8cf4c8878dd"
   },
   "outputs": [],
   "source": [
    "# [method 5] 개선 모델\n",
    "# 모델의 성능을 더 개선하기 위해 추가적인 피처를 사용하고, 비선형 모델을 도입하여 분석을 진행\n",
    "# Gradient Boosting Regressor와 같은 모델을 추가하여 성능을 비교\n",
    "# 라이브러리 임포트\n",
    "import pandas as pd\n",
    "import numpy as np\n",
    "import seaborn as sns\n",
    "import matplotlib.pyplot as plt\n",
    "from sklearn.model_selection import train_test_split, cross_val_score, GridSearchCV\n",
    "from sklearn.linear_model import SGDRegressor, LinearRegression, Ridge\n",
    "from sklearn.metrics import mean_squared_error, r2_score, mean_absolute_error\n",
    "from sklearn.preprocessing import StandardScaler\n",
    "from sklearn.compose import ColumnTransformer\n",
    "from sklearn.pipeline import Pipeline\n",
    "from sklearn.ensemble import VotingRegressor, GradientBoostingRegressor\n",
    "\n",
    "# 데이터 로드\n",
    "housing_train = pd.read_csv(\"california_housing_train.csv\")\n",
    "housing_test = pd.read_csv(\"california_housing_test.csv\")\n",
    "\n",
    "\n",
    "# 데이터 탐색\n",
    "\n",
    "# 데이터 분포 시각화\n",
    "# 주택 가격('median_house_value')에 관련된 다른 피처들과의 상관계수 구하기\n",
    "\n",
    "\n",
    "# 피처 선택\n",
    "# num_features = ['latitude', 'housing_median_age', 'total_rooms', 'median_income', 'total_bedrooms', 'population']\n",
    "num_features = housing_train.columns\n",
    "# 데이터의 대각선 모양의 분포 - seaborn 라이브러리의 주택가격과 상관도가 높은 피처에 대한 쌍 그래프 그리기\n",
    "\n",
    "\n",
    "# 전처리 작업\n",
    "# 1) 데이터 스케일링\n",
    "numeric_transformer = Pipeline(steps=[\n",
    "    ('scaler', StandardScaler())\n",
    "])\n",
    "\n",
    "preprocessor = ColumnTransformer(\n",
    "    transformers=[\n",
    "        ('num', numeric_transformer, num_features)\n",
    "    ]\n",
    ")\n",
    "\n",
    "# 학습데이터와 평가 데이터 설정\n",
    "# 1) X & y 설정\n",
    "X_train = housing_train[num_features]\n",
    "X_test = housing_test[num_features]\n",
    "y_train = housing_train['median_house_value']\n",
    "y_test = housing_test['median_house_value']\n",
    "\n",
    "# 모델 생성 : LinearRegression, SGDRegressor, Ridge, GradientBoostingRegressor\n",
    "# 1) 개별 모델 정의\n",
    "models = [\n",
    "    ('lr', LinearRegression()),\n",
    "    ('sgd', SGDRegressor(random_state=42)),\n",
    "    ('ridge', Ridge(random_state=42)),\n",
    "    ('gbr', GradientBoostingRegressor(random_state=42))\n",
    "]\n",
    "\n",
    "# 2) 앙상블 모델 정의\n",
    "ensemble = VotingRegressor(estimators=models)\n",
    "\n",
    "# 3) 파이프라인 생성\n",
    "model_pipeline = Pipeline(steps=[\n",
    "    ('preprocessor', preprocessor),\n",
    "    ('ensemble', ensemble)\n",
    "])\n",
    "\n",
    "# 4) 하이퍼파라미터 튜닝\n",
    "param_grid = {\n",
    "    'ensemble__sgd__alpha': [0.001, 0.01],\n",
    "    'ensemble__sgd__max_iter': [1000, 2000],\n",
    "    'ensemble__ridge__alpha': [10, 20],\n",
    "    'ensemble__gbr__n_estimators': [100, 200],\n",
    "    'ensemble__gbr__learning_rate': [0.01, 0.1]\n",
    "}\n",
    "\n",
    "\n",
    "\n",
    "# GridSearchCV 모델 설정 및 학습 및 성능 평가\n",
    "grid_search = GridSearchCV(model_pipeline, param_grid, cv=5,\n",
    "                           scoring='neg_mean_squared_error', return_train_score=True)\n",
    "grid_search.fit(X_train, y_train)\n",
    "\n",
    "# 최적 파라미터를 이용하여 최적 모델로 예측하기\n",
    "# 1) 최적 파라미터 출력\n",
    "print(f'Best parameters found: {grid_search.best_params_}')\n",
    "\n",
    "# 2) 최적 모델 출력\n",
    "best_model = grid_search.best_estimator_\n",
    "\n",
    "# 3) 최적 모델로 예측\n",
    "y_pred = best_model.predict(X_test)\n",
    "\n",
    "# 4) 최적 모델 성능 평가 및 시각화\n",
    "mse = mean_squared_error(y_test, y_pred)\n",
    "mae = mean_absolute_error(y_test, y_pred)\n",
    "r2 = r2_score(y_test, y_pred)\n",
    "\n",
    "print(f'MSE: {mse}, MAE: {mae}, R^2: {r2}')\n",
    "\n",
    "# 5) 교차검증\n",
    "cv_score = cross_val_score(best_model, X_train, y_train, cv=5, scoring='neg_mean_squared_error')\n",
    "cv_mse = -cv_score.mean()\n",
    "print(f'Cross-Validation MSE: {cv_mse}')\n",
    "\n",
    "# overfitting 여부 판단 (학습데이터 vs 테스트 오차 비교)\n",
    "train_pred = best_model.predict(X_train)\n",
    "train_mse = mean_squared_error(y_train, train_pred)\n",
    "print(f'Training MSE: {train_mse}')\n",
    "\n",
    "\n",
    "\n",
    "\n"
   ]
  },
  {
   "cell_type": "code",
   "execution_count": null,
   "metadata": {
    "id": "h9awLlrYZ-6G"
   },
   "outputs": [],
   "source": []
  }
 ],
 "metadata": {
  "colab": {
   "provenance": []
  },
  "kernelspec": {
   "display_name": "Python 3 (ipykernel)",
   "language": "python",
   "name": "python3"
  },
  "language_info": {
   "codemirror_mode": {
    "name": "ipython",
    "version": 3
   },
   "file_extension": ".py",
   "mimetype": "text/x-python",
   "name": "python",
   "nbconvert_exporter": "python",
   "pygments_lexer": "ipython3",
   "version": "3.12.2"
  }
 },
 "nbformat": 4,
 "nbformat_minor": 4
}
